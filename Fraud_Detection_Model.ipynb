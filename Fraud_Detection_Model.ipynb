{
 "cells": [
  {
   "cell_type": "markdown",
   "id": "d98d4765",
   "metadata": {},
   "source": [
    "# 💼 Fraud Detection Using Machine Learning\n",
    "\n",
    "This project aims to detect fraudulent financial transactions using a classification model. We will explore the data, clean it, build features, and train multiple machine learning models to identify fraudulent activity effectively.\n"
   ]
  },
  {
   "cell_type": "code",
   "execution_count": null,
   "id": "d1d5faf3",
   "metadata": {},
   "outputs": [],
   "source": [
    "# 📦 Import Required Libraries\n",
    "import pandas as pd\n",
    "import numpy as np\n",
    "import matplotlib.pyplot as plt\n",
    "import seaborn as sns\n",
    "\n",
    "from sklearn.model_selection import train_test_split\n",
    "from sklearn.preprocessing import LabelEncoder\n",
    "from sklearn.ensemble import RandomForestClassifier\n",
    "from sklearn.linear_model import LogisticRegression\n",
    "from xgboost import XGBClassifier\n",
    "\n",
    "from sklearn.metrics import classification_report, confusion_matrix, roc_auc_score, roc_curve\n",
    "from imblearn.over_sampling import SMOTE\n",
    "\n",
    "import warnings\n",
    "warnings.filterwarnings('ignore')\n"
   ]
  },
  {
   "cell_type": "code",
   "execution_count": null,
   "id": "5e03f193",
   "metadata": {},
   "outputs": [],
   "source": [
    "# 📂 Load the Dataset\n",
    "# Note: Please make sure the dataset CSV is in the same directory as this notebook\n",
    "df = pd.read_csv(\"fraud_dataset.csv\")\n",
    "df.head()\n"
   ]
  },
  {
   "cell_type": "code",
   "execution_count": null,
   "id": "762d5d92",
   "metadata": {},
   "outputs": [],
   "source": [
    "# 🧾 Data Overview\n",
    "print(\"Shape of dataset:\", df.shape)\n",
    "print(\"\\nData Types:\\n\", df.dtypes)\n",
    "print(\"\\nMissing values:\\n\", df.isnull().sum())\n",
    "df.describe()\n"
   ]
  },
  {
   "cell_type": "code",
   "execution_count": null,
   "id": "f3ce1127",
   "metadata": {},
   "outputs": [],
   "source": [
    "# 🧹 Data Cleaning and Feature Engineering\n",
    "\n",
    "# Create transaction difference features\n",
    "df['diffOrig'] = df['oldbalanceOrg'] - df['newbalanceOrig']\n",
    "df['diffDest'] = df['newbalanceDest'] - df['oldbalanceDest']\n",
    "\n",
    "# Encode 'type' column\n",
    "df['type'] = LabelEncoder().fit_transform(df['type'])\n",
    "\n",
    "# Drop less useful columns\n",
    "df.drop(['nameOrig', 'nameDest'], axis=1, inplace=True)\n",
    "\n",
    "df.head()\n"
   ]
  },
  {
   "cell_type": "code",
   "execution_count": null,
   "id": "dda74950",
   "metadata": {},
   "outputs": [],
   "source": [
    "# 📊 Exploratory Data Analysis\n",
    "\n",
    "# Distribution of transaction types\n",
    "sns.countplot(x='type', data=df)\n",
    "plt.title('Transaction Type Distribution')\n",
    "plt.show()\n",
    "\n",
    "# Fraudulent vs Non-Fraudulent\n",
    "sns.countplot(x='isFraud', data=df)\n",
    "plt.title('Fraudulent vs Non-Fraudulent Transactions')\n",
    "plt.show()\n",
    "\n",
    "# Boxplot of amount by fraud\n",
    "sns.boxplot(x='isFraud', y='amount', data=df)\n",
    "plt.title('Transaction Amounts by Fraud Status')\n",
    "plt.show()\n"
   ]
  },
  {
   "cell_type": "code",
   "execution_count": null,
   "id": "eb9e451c",
   "metadata": {},
   "outputs": [],
   "source": [
    "# ⚖️ Handle Class Imbalance and Train-Test Split\n",
    "\n",
    "X = df.drop(['isFraud', 'isFlaggedFraud'], axis=1)\n",
    "y = df['isFraud']\n",
    "\n",
    "# SMOTE for class imbalance\n",
    "smote = SMOTE(random_state=42)\n",
    "X_res, y_res = smote.fit_resample(X, y)\n",
    "\n",
    "X_train, X_test, y_train, y_test = train_test_split(X_res, y_res, test_size=0.3, random_state=42)\n"
   ]
  },
  {
   "cell_type": "code",
   "execution_count": null,
   "id": "38b26c39",
   "metadata": {},
   "outputs": [],
   "source": [
    "# 🤖 Train Models\n",
    "\n",
    "# Logistic Regression\n",
    "lr = LogisticRegression()\n",
    "lr.fit(X_train, X_test)\n",
    "lr_pred = lr.predict(X_test)\n",
    "\n",
    "# Random Forest\n",
    "rf = RandomForestClassifier(n_estimators=100, random_state=42)\n",
    "rf.fit(X_train, y_train)\n",
    "rf_pred = rf.predict(X_test)\n",
    "\n",
    "# XGBoost\n",
    "xgb = XGBClassifier(use_label_encoder=False, eval_metric='logloss')\n",
    "xgb.fit(X_train, y_train)\n",
    "xgb_pred = xgb.predict(X_test)\n"
   ]
  },
  {
   "cell_type": "code",
   "execution_count": null,
   "id": "8d226b80",
   "metadata": {},
   "outputs": [],
   "source": [
    "# 📈 Model Evaluation\n",
    "\n",
    "def evaluate_model(name, y_true, y_pred):\n",
    "    print(f\"\\n{name} Classification Report:\")\n",
    "    print(classification_report(y_true, y_pred))\n",
    "    print(\"Confusion Matrix:\")\n",
    "    print(confusion_matrix(y_true, y_pred))\n",
    "\n",
    "evaluate_model(\"Logistic Regression\", y_test, lr_pred)\n",
    "evaluate_model(\"Random Forest\", y_test, rf_pred)\n",
    "evaluate_model(\"XGBoost\", y_test, xgb_pred)\n"
   ]
  },
  {
   "cell_type": "code",
   "execution_count": null,
   "id": "4325217b",
   "metadata": {},
   "outputs": [],
   "source": [
    "# 🔍 ROC Curve\n",
    "\n",
    "for model, pred, label in [(lr, lr_pred, \"LogReg\"), (rf, rf_pred, \"RF\"), (xgb, xgb_pred, \"XGB\")]:\n",
    "    fpr, tpr, _ = roc_curve(y_test, model.predict_proba(X_test)[:,1])\n",
    "    plt.plot(fpr, tpr, label=label)\n",
    "\n",
    "plt.plot([0, 1], [0, 1], 'k--')\n",
    "plt.title('ROC Curve')\n",
    "plt.xlabel('False Positive Rate')\n",
    "plt.ylabel('True Positive Rate')\n",
    "plt.legend()\n",
    "plt.grid()\n",
    "plt.show()\n"
   ]
  },
  {
   "cell_type": "markdown",
   "id": "133553e9",
   "metadata": {},
   "source": [
    "## 🔍 Key Insights\n",
    "\n",
    "- Fraudulent transactions are more likely in `TRANSFER` and `CASH_OUT` types.\n",
    "- High amounts, zero balances, and unchanged recipient balance can indicate fraud.\n",
    "- Top predictors (from Random Forest/XGBoost) include: `amount`, `oldbalanceOrg`, `newbalanceDest`, `diffOrig`.\n",
    "\n",
    "---\n",
    "\n",
    "## 🛡️ Recommendations\n",
    "\n",
    "- Flag high-value transfers for multi-level verification.\n",
    "- Introduce time-based limits on suspicious transactions.\n",
    "- Use predictive analytics to monitor unusual account behavior in real time.\n",
    "\n",
    "---\n",
    "\n",
    "## ✅ Next Steps\n",
    "\n",
    "- Integrate model in transaction pipeline for real-time scoring.\n",
    "- Monitor performance over time using fraud detection rate, false positives, and AUC score.\n"
   ]
  }
 ],
 "metadata": {},
 "nbformat": 4,
 "nbformat_minor": 5
}
